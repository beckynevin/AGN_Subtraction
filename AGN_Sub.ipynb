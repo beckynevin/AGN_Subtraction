{
 "cells": [
  {
   "cell_type": "code",
   "execution_count": null,
   "metadata": {},
   "outputs": [],
   "source": [
    "# This code will attempt to subtract off a PSF\n",
    "# From a galaxy with a known AGN\n",
    "# 205 - 1 is a good example of this\n",
    "# I am trying to make a version of it that takes up less space on the SC (fully convolved etc)\n"
   ]
  },
  {
   "cell_type": "code",
   "execution_count": null,
   "metadata": {},
   "outputs": [],
   "source": [
    "# This cell is how I tried to do this before\n",
    "'''find the spaxel of maximum brightness, this is the AGN light'''\n",
    "\n",
    "                plt.clf()\n",
    "                summed_specs = np.sum(out,axis=0)\n",
    "\t\tcoords = np.argwhere(summed_specs.max() == summed_specs)\n",
    "            #max_coord = np.where(summed_specs = np.max(summed_specs))                                                                \n",
    "            #print('max coords', coords)                                                                                              \n",
    "\t\tplt.plot(Ang, out[:,coords[0][0],coords[0][1]], label='Simulated Spectrum', lw=0.5)\n",
    "\n",
    "                plt.savefig('brightest_spaxel_'+str(run)+'_'+str(myr)+'_'+str(view)+'.png', dpi=1000)\n"
   ]
  },
  {
   "cell_type": "code",
   "execution_count": null,
   "metadata": {},
   "outputs": [],
   "source": [
    "# My new idea is to use one spaxel, an also to use a stellar template if necessary."
   ]
  }
 ],
 "metadata": {
  "kernelspec": {
   "display_name": "Python 3",
   "language": "python",
   "name": "python3"
  },
  "language_info": {
   "codemirror_mode": {
    "name": "ipython",
    "version": 3
   },
   "file_extension": ".py",
   "mimetype": "text/x-python",
   "name": "python",
   "nbconvert_exporter": "python",
   "pygments_lexer": "ipython3",
   "version": "3.7.3"
  }
 },
 "nbformat": 4,
 "nbformat_minor": 2
}
